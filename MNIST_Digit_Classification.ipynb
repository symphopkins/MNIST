{
  "nbformat": 4,
  "nbformat_minor": 0,
  "metadata": {
    "colab": {
      "provenance": [],
      "gpuType": "T4"
    },
    "kernelspec": {
      "name": "python3",
      "display_name": "Python 3"
    },
    "language_info": {
      "name": "python"
    },
    "accelerator": "GPU"
  },
  "cells": [
    {
      "cell_type": "markdown",
      "source": [
        "##Introduction"
      ],
      "metadata": {
        "id": "ZYq0eYSfE74h"
      }
    },
    {
      "cell_type": "markdown",
      "source": [
        "For this project, our objective is to build an optimal convolutional neural network to classify handwritten digits. We will use a built-in dataset, MNIST, provided by TensorFlow. The dataset contains 60,000 28x28 grayscale images of the 10 digits, along with a test set of 10,000 images.\n",
        "\n",
        "Source: [MNIST Digits Classification Dataset](https://keras.io/api/datasets/mnist/#:~:text=tf.keras.datasets.mnist.load_data%28path%3D%22mnist.npz%22%29%20Loads%20the%20MNIST%20dataset.%20This%20is%20a,along%20with%20a%20test%20set%20of%2010%2C000%20images.)"
      ],
      "metadata": {
        "id": "dEVALjBbFUa2"
      }
    },
    {
      "cell_type": "markdown",
      "source": [
        "## Data Preparation"
      ],
      "metadata": {
        "id": "lovoyVoME96P"
      }
    },
    {
      "cell_type": "markdown",
      "source": [
        "**1.Load the data using the following codes:**\n",
        "\n"
      ],
      "metadata": {
        "id": "RwNMCXJdIr4o"
      }
    },
    {
      "cell_type": "markdown",
      "source": [
        "Let's begin by loading the MNIST dataset into memory."
      ],
      "metadata": {
        "id": "ozBF4cmmOqbf"
      }
    },
    {
      "cell_type": "code",
      "source": [
        "#importing libraries\n",
        "import tensorflow as tf\n",
        "from tensorflow.keras import datasets, layers, models"
      ],
      "metadata": {
        "id": "vWWixjTXMiEh"
      },
      "execution_count": null,
      "outputs": []
    },
    {
      "cell_type": "code",
      "source": [
        "#loading the MNIST digits classification dataset from Tensorflow Keras\n",
        "mnist = tf.keras.datasets.mnist"
      ],
      "metadata": {
        "id": "kviCwNqoIyWK"
      },
      "execution_count": null,
      "outputs": []
    },
    {
      "cell_type": "code",
      "source": [
        "#splitting data into training and test datasets\n",
        "(x_train, y_train), (x_test, y_test) = mnist.load_data()\n",
        "#we are dividing the values by 255.0 to normalize the pixels so that they are within the range of 0 and 1, and to convert the values to floats\n",
        "x_train, x_test = x_train / 255.0, x_test / 255.0"
      ],
      "metadata": {
        "id": "Qd7cWntCIFLc"
      },
      "execution_count": null,
      "outputs": []
    },
    {
      "cell_type": "code",
      "source": [
        "#checking shape of data\n",
        "print(f'''\n",
        "x_train shape: {x_train.shape}\n",
        "y_train shape: {y_train.shape}\n",
        "x_test shape:  {x_test.shape}\n",
        "y_test shape:  {y_test.shape}\n",
        "''')"
      ],
      "metadata": {
        "colab": {
          "base_uri": "https://localhost:8080/"
        },
        "id": "wbLBnAhPITrC",
        "outputId": "e6e63332-02bb-4742-f09a-9bc461d48d59"
      },
      "execution_count": null,
      "outputs": [
        {
          "output_type": "stream",
          "name": "stdout",
          "text": [
            "\n",
            "x_train shape: (60000, 28, 28)\n",
            "y_train shape: (60000,)\n",
            "x_test shape:  (10000, 28, 28)\n",
            "y_test shape:  (10000,)\n",
            "\n"
          ]
        }
      ]
    },
    {
      "cell_type": "markdown",
      "source": [
        "These are 3D arrays."
      ],
      "metadata": {
        "id": "WXffEi0SIhoz"
      }
    },
    {
      "cell_type": "markdown",
      "source": [
        "It's always good to check the data types, so let's see what they are for each variable."
      ],
      "metadata": {
        "id": "XRRtX9DxESry"
      }
    },
    {
      "cell_type": "code",
      "source": [
        "#checking data type of each variable\n",
        "print(f'''\n",
        "x_train data type: {x_train.dtype}\n",
        "y_train data type: {y_train.dtype}\n",
        "x_test data type:  {x_test.dtype}\n",
        "y_test data type:  {y_test.dtype}\n",
        "''')"
      ],
      "metadata": {
        "colab": {
          "base_uri": "https://localhost:8080/"
        },
        "id": "RvYI9hsGEaSF",
        "outputId": "2dd0e27e-aaa3-409f-cfe6-f429f0269e7d"
      },
      "execution_count": null,
      "outputs": [
        {
          "output_type": "stream",
          "name": "stdout",
          "text": [
            "\n",
            "x_train data type: float64\n",
            "y_train data type: uint8\n",
            "x_test data type:  float64\n",
            "y_test data type:  uint8\n",
            "\n"
          ]
        }
      ]
    },
    {
      "cell_type": "markdown",
      "source": [
        "Now let's look at the distribution of y_train."
      ],
      "metadata": {
        "id": "jDuI2quyHsq_"
      }
    },
    {
      "cell_type": "code",
      "source": [
        "# importing libraries\n",
        "import numpy as np\n",
        "import matplotlib.pyplot as plt"
      ],
      "metadata": {
        "id": "4Li9K66PHrsF"
      },
      "execution_count": null,
      "outputs": []
    },
    {
      "cell_type": "code",
      "source": [
        "# displaying distribution\n",
        "num, counts = np.unique(y_train, return_counts=True)\n",
        "\n",
        "for value, count in zip(num, counts):\n",
        "    print(f\"{value}: {count}\")"
      ],
      "metadata": {
        "colab": {
          "base_uri": "https://localhost:8080/"
        },
        "id": "_6y32YxAH3f9",
        "outputId": "7666f80e-a778-4725-f09d-cbf428b5cfe9"
      },
      "execution_count": null,
      "outputs": [
        {
          "output_type": "stream",
          "name": "stdout",
          "text": [
            "0: 5923\n",
            "1: 6742\n",
            "2: 5958\n",
            "3: 6131\n",
            "4: 5842\n",
            "5: 5421\n",
            "6: 5918\n",
            "7: 6265\n",
            "8: 5851\n",
            "9: 5949\n"
          ]
        }
      ]
    },
    {
      "cell_type": "code",
      "source": [
        "# plotting distribution\n",
        "plt.bar(num, counts)\n",
        "plt.xlabel('Value')\n",
        "plt.ylabel('Count')\n",
        "plt.xticks(num)\n",
        "plt.title('Distribution of Values')\n",
        "plt.show()"
      ],
      "metadata": {
        "colab": {
          "base_uri": "https://localhost:8080/",
          "height": 472
        },
        "id": "fPR99DqDH69S",
        "outputId": "eacddbb8-1322-44ea-ca25-a2fb1a9bf8e4"
      },
      "execution_count": null,
      "outputs": [
        {
          "output_type": "display_data",
          "data": {
            "text/plain": [
              "<Figure size 640x480 with 1 Axes>"
            ],
            "image/png": "[encoded data removed]"
          },
          "metadata": {}
        }
      ]
    },
    {
      "cell_type": "markdown",
      "source": [
        "The dataset is imbalanced, so we will take that into consideration when evaluating the model."
      ],
      "metadata": {
        "id": "JsHFd4jAIAHw"
      }
    },
    {
      "cell_type": "markdown",
      "source": [
        "As we saw, there are 60000 images in the train set and 10000 images in the test set, both of which are 28x28. We can also see that the x_train and x_test sets are 3D arrays; however, Keras Convolution 2D Layers only accept 4D arrays. To fix this issue, we must reshape the data. We will do so by adding the channel dimension.\n",
        "\n"
      ],
      "metadata": {
        "id": "ZNoryMsXQgOy"
      }
    },
    {
      "cell_type": "code",
      "source": [
        "#reshaping the data\n",
        "#each image is 28x28, so we will set the height and width to be those values\n",
        "height, width = x_train.shape[1:]\n",
        "x_train = x_train.reshape(x_train.shape[0], height, width, 1)\n",
        "x_test = x_test.reshape(x_test.shape[0], height, width, 1)"
      ],
      "metadata": {
        "id": "VZW42cQsPB2R"
      },
      "execution_count": null,
      "outputs": []
    },
    {
      "cell_type": "code",
      "source": [
        "#checking new shape of data\n",
        "print(f'''\n",
        "x_train shape: {x_train.shape}\n",
        "x_test shape:  {x_test.shape}\n",
        "''')"
      ],
      "metadata": {
        "colab": {
          "base_uri": "https://localhost:8080/"
        },
        "id": "_XKL35S4UOPF",
        "outputId": "06c25756-80be-4251-e88a-6841d2cce2fc"
      },
      "execution_count": null,
      "outputs": [
        {
          "output_type": "stream",
          "name": "stdout",
          "text": [
            "\n",
            "x_train shape: (60000, 28, 28, 1)\n",
            "x_test shape:  (10000, 28, 28, 1)\n",
            "\n"
          ]
        }
      ]
    },
    {
      "cell_type": "markdown",
      "source": [
        "Now, let's look at the pixel values. Pixel values fall within the range of 0 (black) and 255 (white); since we normalized these values earlier by dividing them by 255.0, they should fall within the range of 0 and 1."
      ],
      "metadata": {
        "id": "BFWrVUdKDp44"
      }
    },
    {
      "cell_type": "code",
      "source": [
        "#checking pixel value range\n",
        "import numpy as np\n",
        "print(f'The minimum value of pixels = {np.amin(x_train[0])}; the maximum value of pixels ={np.amax(x_train[0])}' )"
      ],
      "metadata": {
        "colab": {
          "base_uri": "https://localhost:8080/"
        },
        "id": "4PHNV_DaNiQl",
        "outputId": "aaea0630-847c-44c5-a724-06b26b8a7df6"
      },
      "execution_count": null,
      "outputs": [
        {
          "output_type": "stream",
          "name": "stdout",
          "text": [
            "The minimum value of pixels = 0.0; the maximum value of pixels =1.0\n"
          ]
        }
      ]
    },
    {
      "cell_type": "markdown",
      "source": [
        "Finally, let's visualize the first image to get an idea of the digits look like."
      ],
      "metadata": {
        "id": "YNhltabwIdzy"
      }
    },
    {
      "cell_type": "code",
      "source": [
        "#visualizing an image\n",
        "import matplotlib.pyplot as plt\n",
        "plt.imshow(x_train[0], cmap='gray', interpolation='none')\n",
        "plt.title(f'Digit: {y_train[0]}')\n",
        "plt.tick_params(left = False, right = False , labelleft = False, labelbottom = False, bottom = False)"
      ],
      "metadata": {
        "colab": {
          "base_uri": "https://localhost:8080/",
          "height": 428
        },
        "id": "I2qwJMu1Iidc",
        "outputId": "e6bf4750-6509-429b-eb78-54cebbdb0a04"
      },
      "execution_count": null,
      "outputs": [
        {
          "output_type": "display_data",
          "data": {
            "text/plain": [
              "<Figure size 640x480 with 1 Axes>"
            ],
            "image/png": "[encoded data removed]"
          },
          "metadata": {}
        }
      ]
    },
    {
      "cell_type": "markdown",
      "source": [
        "##Building Convolutional Neural Networks"
      ],
      "metadata": {
        "id": "AztKJTbbFDyx"
      }
    },
    {
      "cell_type": "markdown",
      "source": [
        "**2.Build the first model try different type of convolution and maxpooling layers.**"
      ],
      "metadata": {
        "id": "o9cUT6QvI9Fa"
      }
    },
    {
      "cell_type": "markdown",
      "source": [
        "Now, let's create a convolution neural network to classify the digits."
      ],
      "metadata": {
        "id": "G6lwEyJKJ4-9"
      }
    },
    {
      "cell_type": "code",
      "source": [
        "#creating first model\n",
        "model = models.Sequential()\n",
        "\n",
        "#adding first convolution layer\n",
        "#since we reshaped the x_train set to be (60000,28,28,1), we can simply set the input_shape to be x_train[1:] so that it'll be (28,28,1)\n",
        "model.add(layers.Conv2D(32, (3, 3), activation='relu', input_shape= x_train.shape[1:]))\n",
        "\n",
        "#adding the first max pooling layer; pooling window will be 2x2\n",
        "model.add(layers.MaxPooling2D((2, 2)))\n",
        "\n",
        "#adding second convolution layer; increasing # of filters from 32 to 64\n",
        "model.add(layers.Conv2D(64, (3, 3), activation='relu'))\n",
        "\n",
        "#adding second max pooling layer\n",
        "model.add(layers.MaxPooling2D((2, 2)))\n",
        "\n",
        "#adding third convolution layer; increasing # of filters from 64 to 128\n",
        "model.add(layers.Conv2D(128, (3, 3), activation='relu'))\n",
        "\n",
        "#adding third max pooling layer\n",
        "model.add(layers.MaxPooling2D((2, 2)))\n",
        "\n",
        "#we need to change the dimensions of the output array to 2D to make it work with the classification algorithm, so we will add a flatten layer\n",
        "model.add(layers.Flatten())\n",
        "\n",
        "#adding layers for classification; layer will contain 128 neurons\n",
        "model.add(layers.Dense(128, activation='relu'))\n",
        "\n",
        "#adding dropout layer\n",
        "model.add(layers.Dropout(0.3))\n",
        "\n",
        "#since we have 10 labels, we need to have 10 neurons for the final output later; activation=None\n",
        "model.add(layers.Dense(10))\n",
        "\n",
        "#configuring model; since activation=None, from_logits must =True\n",
        "model.compile(optimizer='adam', loss=tf.keras.losses.SparseCategoricalCrossentropy(from_logits=True), metrics=['accuracy'])\n"
      ],
      "metadata": {
        "id": "nnC1rVDdKeEd"
      },
      "execution_count": null,
      "outputs": []
    },
    {
      "cell_type": "markdown",
      "source": [
        "**3.Print out the size of each layer of the model in step 2 using model summary function. What's the test error?**"
      ],
      "metadata": {
        "id": "3CueL788JJpl"
      }
    },
    {
      "cell_type": "markdown",
      "source": [
        "Let's see the different sizes for each layer from the model we created."
      ],
      "metadata": {
        "id": "4Q_ouY2PkLeN"
      }
    },
    {
      "cell_type": "code",
      "source": [
        "model.summary()"
      ],
      "metadata": {
        "colab": {
          "base_uri": "https://localhost:8080/"
        },
        "id": "NcJjuzpzkKok",
        "outputId": "f0c1d122-f749-4f97-8c68-fc5889424241"
      },
      "execution_count": null,
      "outputs": [
        {
          "output_type": "stream",
          "name": "stdout",
          "text": [
            "Model: \"sequential\"\n",
            "_________________________________________________________________\n",
            " Layer (type)                Output Shape              Param #   \n",
            "=================================================================\n",
            " conv2d (Conv2D)             (None, 26, 26, 32)        320       \n",
            "                                                                 \n",
            " max_pooling2d (MaxPooling2  (None, 13, 13, 32)        0         \n",
            " D)                                                              \n",
            "                                                                 \n",
            " conv2d_1 (Conv2D)           (None, 11, 11, 64)        18496     \n",
            "                                                                 \n",
            " max_pooling2d_1 (MaxPoolin  (None, 5, 5, 64)          0         \n",
            " g2D)                                                            \n",
            "                                                                 \n",
            " conv2d_2 (Conv2D)           (None, 3, 3, 128)         73856     \n",
            "                                                                 \n",
            " max_pooling2d_2 (MaxPoolin  (None, 1, 1, 128)         0         \n",
            " g2D)                                                            \n",
            "                                                                 \n",
            " flatten (Flatten)           (None, 128)               0         \n",
            "                                                                 \n",
            " dense (Dense)               (None, 128)               16512     \n",
            "                                                                 \n",
            " dropout (Dropout)           (None, 128)               0         \n",
            "                                                                 \n",
            " dense_1 (Dense)             (None, 10)                1290      \n",
            "                                                                 \n",
            "=================================================================\n",
            "Total params: 110474 (431.54 KB)\n",
            "Trainable params: 110474 (431.54 KB)\n",
            "Non-trainable params: 0 (0.00 Byte)\n",
            "_________________________________________________________________\n"
          ]
        }
      ]
    },
    {
      "cell_type": "markdown",
      "source": [
        "As we can see, the dimension sizes decreased as we added different layers. Let's evaluate the model by looking at the test error. To begin, we will train the model. We will implement early stopping while training the model since we have 110,474 paramaters. The training will stop if the validation accuracy does not improve for 3 epochs."
      ],
      "metadata": {
        "id": "fOwAXaA8lGpN"
      }
    },
    {
      "cell_type": "code",
      "source": [
        "%%time\n",
        "#training the model and storing the history in a variable to plot later\n",
        "#we will make the number of epochs short since training models for image classification can run for a long time\n",
        "history = model.fit(x_train, y_train, epochs=20, verbose = 1)"
      ],
      "metadata": {
        "colab": {
          "base_uri": "https://localhost:8080/"
        },
        "id": "mzNH2ga1lu5N",
        "outputId": "573a044a-971e-4e28-cebd-8cec82f4770e"
      },
      "execution_count": null,
      "outputs": [
        {
          "output_type": "stream",
          "name": "stdout",
          "text": [
            "Epoch 1/20\n",
            "1875/1875 [==============================] - 23s 8ms/step - loss: 0.2220 - accuracy: 0.9324\n",
            "Epoch 2/20\n",
            "1875/1875 [==============================] - 9s 5ms/step - loss: 0.0740 - accuracy: 0.9776\n",
            "Epoch 3/20\n",
            "1875/1875 [==============================] - 8s 4ms/step - loss: 0.0543 - accuracy: 0.9834\n",
            "Epoch 4/20\n",
            "1875/1875 [==============================] - 8s 4ms/step - loss: 0.0432 - accuracy: 0.9875\n",
            "Epoch 5/20\n",
            "1875/1875 [==============================] - 8s 4ms/step - loss: 0.0340 - accuracy: 0.9899\n",
            "Epoch 6/20\n",
            "1875/1875 [==============================] - 8s 4ms/step - loss: 0.0282 - accuracy: 0.9916\n",
            "Epoch 7/20\n",
            "1875/1875 [==============================] - 8s 4ms/step - loss: 0.0242 - accuracy: 0.9924\n",
            "Epoch 8/20\n",
            "1875/1875 [==============================] - 8s 4ms/step - loss: 0.0201 - accuracy: 0.9932\n",
            "Epoch 9/20\n",
            "1875/1875 [==============================] - 8s 4ms/step - loss: 0.0168 - accuracy: 0.9946\n",
            "Epoch 10/20\n",
            "1875/1875 [==============================] - 7s 4ms/step - loss: 0.0158 - accuracy: 0.9953\n",
            "Epoch 11/20\n",
            "1875/1875 [==============================] - 8s 4ms/step - loss: 0.0151 - accuracy: 0.9952\n",
            "Epoch 12/20\n",
            "1875/1875 [==============================] - 8s 4ms/step - loss: 0.0127 - accuracy: 0.9960\n",
            "Epoch 13/20\n",
            "1875/1875 [==============================] - 15s 8ms/step - loss: 0.0144 - accuracy: 0.9953\n",
            "Epoch 14/20\n",
            "1875/1875 [==============================] - 14s 7ms/step - loss: 0.0101 - accuracy: 0.9968\n",
            "Epoch 15/20\n",
            "1875/1875 [==============================] - 9s 5ms/step - loss: 0.0113 - accuracy: 0.9965\n",
            "Epoch 16/20\n",
            "1875/1875 [==============================] - 8s 4ms/step - loss: 0.0100 - accuracy: 0.9969\n",
            "Epoch 17/20\n",
            "1875/1875 [==============================] - 8s 4ms/step - loss: 0.0098 - accuracy: 0.9970\n",
            "Epoch 18/20\n",
            "1875/1875 [==============================] - 8s 4ms/step - loss: 0.0100 - accuracy: 0.9972\n",
            "Epoch 19/20\n",
            "1875/1875 [==============================] - 7s 4ms/step - loss: 0.0089 - accuracy: 0.9974\n",
            "Epoch 20/20\n",
            "1875/1875 [==============================] - 8s 4ms/step - loss: 0.0086 - accuracy: 0.9975\n",
            "CPU times: user 2min 56s, sys: 10.2 s, total: 3min 7s\n",
            "Wall time: 3min 24s\n"
          ]
        }
      ]
    },
    {
      "cell_type": "markdown",
      "source": [
        "Next, we will create a line plot to visualize the model history."
      ],
      "metadata": {
        "id": "aKsd_8HPwnKU"
      }
    },
    {
      "cell_type": "code",
      "source": [
        "#importing libraries\n",
        "import seaborn as sns\n",
        "import pandas as pd\n",
        "\n",
        "#visualizing training history\n",
        "train_history = pd.DataFrame(history.history)\n",
        "train_history['epoch'] = history.epoch\n",
        "#plotting training loss line plot\n",
        "sns.lineplot(x='epoch', y ='loss', data =train_history)\n",
        "#displaying line plot\n",
        "plt.show()\n"
      ],
      "metadata": {
        "colab": {
          "base_uri": "https://localhost:8080/",
          "height": 449
        },
        "id": "g53ZJu_uw6Xu",
        "outputId": "e8cc7212-4145-49bf-d122-ae3a25730148"
      },
      "execution_count": null,
      "outputs": [
        {
          "output_type": "display_data",
          "data": {
            "text/plain": [
              "<Figure size 640x480 with 1 Axes>"
            ],
            "image/png": "[encoded data removed]"
          },
          "metadata": {}
        }
      ]
    },
    {
      "cell_type": "code",
      "source": [
        "#plotting training accuracy\n",
        "sns.lineplot(x='epoch', y ='accuracy', data =train_history)\n",
        "#adding legends\n",
        "plt.legend(labels=['train_accuracy'])\n",
        "#displaying line plot\n",
        "plt.show()"
      ],
      "metadata": {
        "colab": {
          "base_uri": "https://localhost:8080/",
          "height": 451
        },
        "id": "yNLjAM2kxdyL",
        "outputId": "0456b417-6848-4bae-ef79-63124166cdfc"
      },
      "execution_count": null,
      "outputs": [
        {
          "output_type": "display_data",
          "data": {
            "text/plain": [
              "<Figure size 640x480 with 1 Axes>"
            ],
            "image/png": "[encoded data removed]"
          },
          "metadata": {}
        }
      ]
    },
    {
      "cell_type": "code",
      "source": [
        "#calculating test error and accuracy\n",
        "test_loss, test_acc = model.evaluate(x_test, y_test, verbose=0)\n",
        "print(f'''\n",
        "Test Loss: {round(test_loss, 4)}\n",
        "Test Accuracy: {round(test_acc, 4)}''')"
      ],
      "metadata": {
        "colab": {
          "base_uri": "https://localhost:8080/"
        },
        "id": "Bc-CqLQ50Dhv",
        "outputId": "20e51299-04db-4eb0-80d7-de7cff6cc59e"
      },
      "execution_count": null,
      "outputs": [
        {
          "output_type": "stream",
          "name": "stdout",
          "text": [
            "\n",
            "Test Loss: 0.0679\n",
            "Test Accuracy: 0.99\n"
          ]
        }
      ]
    },
    {
      "cell_type": "markdown",
      "source": [
        "We have a really low test loss and high test accuracy, which means the model is performing very well. However the dataset is imbalanced so let's look at how well the model classifies each digit."
      ],
      "metadata": {
        "id": "Wo7Z0NFf3vGV"
      }
    },
    {
      "cell_type": "code",
      "source": [
        "from sklearn.metrics import classification_report\n",
        "# creating the classification report\n",
        "y_pred = model.predict(x_test)\n",
        "y_pred = tf.nn.softmax(y_pred)\n",
        "y_pred = np.argmax(y_pred, axis=1)\n",
        "report = classification_report(y_test, y_pred)\n",
        "\n",
        "# printing the classification report\n",
        "print(report)"
      ],
      "metadata": {
        "colab": {
          "base_uri": "https://localhost:8080/"
        },
        "id": "q57qBDHyFOfr",
        "outputId": "bf7b4f73-ece3-4c46-b8e8-d12a9b6bede5"
      },
      "execution_count": null,
      "outputs": [
        {
          "output_type": "stream",
          "name": "stdout",
          "text": [
            "313/313 [==============================] - 1s 3ms/step\n",
            "              precision    recall  f1-score   support\n",
            "\n",
            "           0       0.99      0.99      0.99       980\n",
            "           1       1.00      0.99      0.99      1135\n",
            "           2       0.99      0.99      0.99      1032\n",
            "           3       1.00      0.99      0.99      1010\n",
            "           4       0.99      1.00      0.99       982\n",
            "           5       0.99      0.98      0.99       892\n",
            "           6       1.00      0.99      0.99       958\n",
            "           7       0.97      0.99      0.98      1028\n",
            "           8       0.99      0.99      0.99       974\n",
            "           9       0.99      0.99      0.99      1009\n",
            "\n",
            "    accuracy                           0.99     10000\n",
            "   macro avg       0.99      0.99      0.99     10000\n",
            "weighted avg       0.99      0.99      0.99     10000\n",
            "\n"
          ]
        }
      ]
    },
    {
      "cell_type": "code",
      "source": [
        "# importing library\n",
        "from sklearn.metrics import confusion_matrix\n",
        "\n",
        "label_names = np.unique(y_test)\n",
        "\n",
        "# creating confusion matrix\n",
        "cm = confusion_matrix(y_test, y_pred, normalize='true')\n",
        "\n",
        "# plotting normalized confusion matrix\n",
        "plt.figure(figsize=(8, 6))\n",
        "sns.heatmap(cm, cmap='Blues', xticklabels=label_names, yticklabels=label_names)\n",
        "plt.xlabel('Predicted Values')\n",
        "plt.ylabel('True Values')\n",
        "plt.title('Normalized Confusion Matrix')\n",
        "plt.show()"
      ],
      "metadata": {
        "colab": {
          "base_uri": "https://localhost:8080/",
          "height": 564
        },
        "id": "xLedBTYNKMQP",
        "outputId": "09db2e88-6dcc-4ae4-8f99-96dd63c86d7e"
      },
      "execution_count": null,
      "outputs": [
        {
          "output_type": "display_data",
          "data": {
            "text/plain": [
              "<Figure size 800x600 with 2 Axes>"
            ],
            "image/png": "[encoded data removed]"
          },
          "metadata": {}
        }
      ]
    },
    {
      "cell_type": "markdown",
      "source": [
        "The model performs well on the test data."
      ],
      "metadata": {
        "id": "dDK5_s4gKrO8"
      }
    },
    {
      "cell_type": "markdown",
      "source": [
        "**4.Build a second model using different type of convolution and maxpooling layer. What's the test error?**"
      ],
      "metadata": {
        "id": "YHDPRFxSJOLt"
      }
    },
    {
      "cell_type": "markdown",
      "source": [
        "Let's create a new model with different arrangements of the convolution and maxpooling layers to see if we can achieve better results."
      ],
      "metadata": {
        "id": "2jIkmTFI36Cn"
      }
    },
    {
      "cell_type": "code",
      "source": [
        "#creating second model\n",
        "model = models.Sequential()\n",
        "\n",
        "#adding first convolution layer\n",
        "#since we reshaped the x_train set to be (60000,28,28,1), we can simply set the input_shape to be x_train[1:] so that it'll be (28,28,1)\n",
        "model.add(layers.Conv2D(32, (3, 3), activation='relu', input_shape= x_train.shape[1:]))\n",
        "\n",
        "#adding the first max pooling layer; pooling window will be 2x2\n",
        "model.add(layers.MaxPooling2D((2, 2)))\n",
        "\n",
        "#adding second convolution layer; increasing # of filters from 32 to 64\n",
        "model.add(layers.Conv2D(64, (3, 3), activation='relu'))\n",
        "\n",
        "#adding second max pooling layer\n",
        "model.add(layers.MaxPooling2D((2, 2)))\n",
        "\n",
        "#adding third convolution layer; increasing # of filters from 64 to 128\n",
        "model.add(layers.Conv2D(128, (3, 3), activation='relu'))\n",
        "\n",
        "#adding third max pooling layer\n",
        "model.add(layers.MaxPooling2D((2, 2)))\n",
        "\n",
        "#we need to change the dimensions of the output array to 2D to make it work with the classification algorithm, so we will add a flatten layer\n",
        "model.add(layers.Flatten())\n",
        "\n",
        "#adding first layer for classification; layer will contain 128 neurons\n",
        "model.add(layers.Dense(128, activation='relu'))\n",
        "\n",
        "#adding first dropout layer\n",
        "model.add(layers.Dropout(0.3))\n",
        "\n",
        "#adding second layer for classification; layer will contain 64 neurons\n",
        "model.add(layers.Dense(64, activation='relu'))\n",
        "\n",
        "#adding second dropout layer\n",
        "model.add(layers.Dropout(0.3))\n",
        "\n",
        "#adding third layer for classification; layer will contain 64 neurons\n",
        "model.add(layers.Dense(32, activation='relu'))\n",
        "\n",
        "#adding third dropout layer\n",
        "model.add(layers.Dropout(0.3))\n",
        "\n",
        "#since we have 10 labels, we need to have 10 neurons for the final output later; activation=None\n",
        "model.add(layers.Dense(10))\n",
        "\n",
        "#configuring model; since activation=None, from_logits must =True\n",
        "model.compile(optimizer='adam', loss=tf.keras.losses.SparseCategoricalCrossentropy(from_logits=True), metrics=['accuracy'])"
      ],
      "metadata": {
        "id": "WXC2jFvhFgO8"
      },
      "execution_count": null,
      "outputs": []
    },
    {
      "cell_type": "markdown",
      "source": [
        "**5.Print out the size of each layer of the model in step 4 using model summary function. What's the test error?**\n"
      ],
      "metadata": {
        "id": "bsxAJcqAJVNa"
      }
    },
    {
      "cell_type": "markdown",
      "source": [
        "Let's see the different sizes for each layer from the model we created."
      ],
      "metadata": {
        "id": "qPqgV2SsG5qq"
      }
    },
    {
      "cell_type": "code",
      "source": [
        "model.summary()"
      ],
      "metadata": {
        "colab": {
          "base_uri": "https://localhost:8080/"
        },
        "id": "jatMPPorHAOs",
        "outputId": "012c8819-0067-4df6-da74-e25f44176299"
      },
      "execution_count": null,
      "outputs": [
        {
          "output_type": "stream",
          "name": "stdout",
          "text": [
            "Model: \"sequential_1\"\n",
            "_________________________________________________________________\n",
            " Layer (type)                Output Shape              Param #   \n",
            "=================================================================\n",
            " conv2d_3 (Conv2D)           (None, 26, 26, 32)        320       \n",
            "                                                                 \n",
            " max_pooling2d_3 (MaxPoolin  (None, 13, 13, 32)        0         \n",
            " g2D)                                                            \n",
            "                                                                 \n",
            " conv2d_4 (Conv2D)           (None, 11, 11, 64)        18496     \n",
            "                                                                 \n",
            " max_pooling2d_4 (MaxPoolin  (None, 5, 5, 64)          0         \n",
            " g2D)                                                            \n",
            "                                                                 \n",
            " conv2d_5 (Conv2D)           (None, 3, 3, 128)         73856     \n",
            "                                                                 \n",
            " max_pooling2d_5 (MaxPoolin  (None, 1, 1, 128)         0         \n",
            " g2D)                                                            \n",
            "                                                                 \n",
            " flatten_1 (Flatten)         (None, 128)               0         \n",
            "                                                                 \n",
            " dense_2 (Dense)             (None, 128)               16512     \n",
            "                                                                 \n",
            " dropout_1 (Dropout)         (None, 128)               0         \n",
            "                                                                 \n",
            " dense_3 (Dense)             (None, 64)                8256      \n",
            "                                                                 \n",
            " dropout_2 (Dropout)         (None, 64)                0         \n",
            "                                                                 \n",
            " dense_4 (Dense)             (None, 32)                2080      \n",
            "                                                                 \n",
            " dropout_3 (Dropout)         (None, 32)                0         \n",
            "                                                                 \n",
            " dense_5 (Dense)             (None, 10)                330       \n",
            "                                                                 \n",
            "=================================================================\n",
            "Total params: 119850 (468.16 KB)\n",
            "Trainable params: 119850 (468.16 KB)\n",
            "Non-trainable params: 0 (0.00 Byte)\n",
            "_________________________________________________________________\n"
          ]
        }
      ]
    },
    {
      "cell_type": "markdown",
      "source": [
        "We have slighly more paramaters to evaluate; so similar to before, we will train the model for 20 epochs since we have a large amount parameters. If the model does not improve for 3 epochs, we will stop the training. Then, we will look at the model's history."
      ],
      "metadata": {
        "id": "v97HvAwZGufU"
      }
    },
    {
      "cell_type": "code",
      "source": [
        "%%time\n",
        "#adding early stopping; if the validation accuracy does not improve for 3 epochs, we will stop training\n",
        "callback = tf.keras.callbacks.EarlyStopping(monitor='accuracy', patience= 3)\n",
        "\n",
        "#training the model and storing the history in a variable to plot later\n",
        "#we will make the number of epochs short since training models for image classification can run for a long time\n",
        "history = model.fit(x_train, y_train, epochs=20, callbacks=[callback], verbose = 1)"
      ],
      "metadata": {
        "colab": {
          "base_uri": "https://localhost:8080/"
        },
        "id": "xNvuHiWOG1BQ",
        "outputId": "72639212-ecd4-4471-fdbf-4b602c1e86ba"
      },
      "execution_count": null,
      "outputs": [
        {
          "output_type": "stream",
          "name": "stdout",
          "text": [
            "Epoch 1/20\n",
            "1875/1875 [==============================] - 11s 5ms/step - loss: 0.4320 - accuracy: 0.8698\n",
            "Epoch 2/20\n",
            "1875/1875 [==============================] - 9s 5ms/step - loss: 0.1325 - accuracy: 0.9685\n",
            "Epoch 3/20\n",
            "1875/1875 [==============================] - 19s 10ms/step - loss: 0.0991 - accuracy: 0.9773\n",
            "Epoch 4/20\n",
            "1875/1875 [==============================] - 9s 5ms/step - loss: 0.0794 - accuracy: 0.9819\n",
            "Epoch 5/20\n",
            "1875/1875 [==============================] - 9s 5ms/step - loss: 0.0689 - accuracy: 0.9842\n",
            "Epoch 6/20\n",
            "1875/1875 [==============================] - 9s 5ms/step - loss: 0.0595 - accuracy: 0.9869\n",
            "Epoch 7/20\n",
            "1875/1875 [==============================] - 9s 5ms/step - loss: 0.0518 - accuracy: 0.9879\n",
            "Epoch 8/20\n",
            "1875/1875 [==============================] - 10s 5ms/step - loss: 0.0430 - accuracy: 0.9898\n",
            "Epoch 9/20\n",
            "1875/1875 [==============================] - 9s 5ms/step - loss: 0.0412 - accuracy: 0.9903\n",
            "Epoch 10/20\n",
            "1875/1875 [==============================] - 9s 5ms/step - loss: 0.0352 - accuracy: 0.9914\n",
            "Epoch 11/20\n",
            "1875/1875 [==============================] - 9s 5ms/step - loss: 0.0349 - accuracy: 0.9917\n",
            "Epoch 12/20\n",
            "1875/1875 [==============================] - 10s 5ms/step - loss: 0.0289 - accuracy: 0.9930\n",
            "Epoch 13/20\n",
            "1875/1875 [==============================] - 9s 5ms/step - loss: 0.0324 - accuracy: 0.9925\n",
            "Epoch 14/20\n",
            "1875/1875 [==============================] - 10s 5ms/step - loss: 0.0248 - accuracy: 0.9936\n",
            "Epoch 15/20\n",
            "1875/1875 [==============================] - 9s 5ms/step - loss: 0.0260 - accuracy: 0.9941\n",
            "Epoch 16/20\n",
            "1875/1875 [==============================] - 10s 5ms/step - loss: 0.0244 - accuracy: 0.9944\n",
            "Epoch 17/20\n",
            "1875/1875 [==============================] - 9s 5ms/step - loss: 0.0227 - accuracy: 0.9944\n",
            "Epoch 18/20\n",
            "1875/1875 [==============================] - 9s 5ms/step - loss: 0.0233 - accuracy: 0.9949\n",
            "Epoch 19/20\n",
            "1875/1875 [==============================] - 9s 5ms/step - loss: 0.0199 - accuracy: 0.9951\n",
            "Epoch 20/20\n",
            "1875/1875 [==============================] - 10s 5ms/step - loss: 0.0202 - accuracy: 0.9957\n",
            "CPU times: user 3min 17s, sys: 10.3 s, total: 3min 28s\n",
            "Wall time: 3min 23s\n"
          ]
        }
      ]
    },
    {
      "cell_type": "markdown",
      "source": [
        "The model concluded at training at 12 epochs. So, let's visualize the model's history with line plots."
      ],
      "metadata": {
        "id": "6N2BIzl7HmmK"
      }
    },
    {
      "cell_type": "code",
      "source": [
        "#visualizing training history\n",
        "train_history = pd.DataFrame(history.history)\n",
        "train_history['epoch'] = history.epoch\n",
        "#plotting training loss line plot\n",
        "sns.lineplot(x='epoch', y ='loss', data =train_history)\n",
        "#adding legends\n",
        "plt.legend(labels=['train_loss'])\n",
        "#displaying line plot\n",
        "plt.show()"
      ],
      "metadata": {
        "colab": {
          "base_uri": "https://localhost:8080/",
          "height": 449
        },
        "id": "9XbkFOZuHxcb",
        "outputId": "98c3efbc-a579-4220-e107-271461bdce5a"
      },
      "execution_count": null,
      "outputs": [
        {
          "output_type": "display_data",
          "data": {
            "text/plain": [
              "<Figure size 640x480 with 1 Axes>"
            ],
            "image/png": "[encoded data removed]"
          },
          "metadata": {}
        }
      ]
    },
    {
      "cell_type": "code",
      "source": [
        "#plotting training accuracy\n",
        "sns.lineplot(x='epoch', y ='accuracy', data =train_history)\n",
        "#adding legends\n",
        "plt.legend(labels=['train_accuracy', 'val_accuracy'])\n",
        "#displaying line plot\n",
        "plt.show()"
      ],
      "metadata": {
        "colab": {
          "base_uri": "https://localhost:8080/",
          "height": 450
        },
        "id": "u95ptTJtH1yT",
        "outputId": "fa54653d-09ce-4e8a-9f3c-a77afe7ded22"
      },
      "execution_count": null,
      "outputs": [
        {
          "output_type": "display_data",
          "data": {
            "text/plain": [
              "<Figure size 640x480 with 1 Axes>"
            ],
            "image/png": "[encoded data removed]"
          },
          "metadata": {}
        }
      ]
    },
    {
      "cell_type": "markdown",
      "source": [
        "Looking at the loss and accuracy plots, we can see that the model is performing similarly to the previous model. Let's calculate the model's overall test error and accuracy."
      ],
      "metadata": {
        "id": "RUb-l8VkH9nZ"
      }
    },
    {
      "cell_type": "code",
      "source": [
        "#calculating test error and accuracy\n",
        "test_loss, test_acc = model.evaluate(x_test, y_test, verbose=0)\n",
        "print(f'''\n",
        "Test Loss: {round(test_loss, 4)}\n",
        "Test Accuracy: {round(test_acc, 4)}''')"
      ],
      "metadata": {
        "colab": {
          "base_uri": "https://localhost:8080/"
        },
        "id": "dd9-ii2IH_Wi",
        "outputId": "7f6a9613-2dcf-436b-9e52-229d40f397c8"
      },
      "execution_count": null,
      "outputs": [
        {
          "output_type": "stream",
          "name": "stdout",
          "text": [
            "\n",
            "Test Loss: 0.1025\n",
            "Test Accuracy: 0.9867\n"
          ]
        }
      ]
    },
    {
      "cell_type": "code",
      "source": [
        "# creating the classification report\n",
        "y_pred = model.predict(x_test)\n",
        "y_pred = tf.nn.softmax(y_pred)\n",
        "y_pred = np.argmax(y_pred, axis=1)\n",
        "report = classification_report(y_test, y_pred)\n",
        "\n",
        "# printing the classification report\n",
        "print(report)"
      ],
      "metadata": {
        "colab": {
          "base_uri": "https://localhost:8080/"
        },
        "id": "FpWKHP6fK_IB",
        "outputId": "ac2b4770-780d-4c12-837a-b14bafb6eaf3"
      },
      "execution_count": null,
      "outputs": [
        {
          "output_type": "stream",
          "name": "stdout",
          "text": [
            "313/313 [==============================] - 1s 3ms/step\n",
            "              precision    recall  f1-score   support\n",
            "\n",
            "           0       0.99      0.99      0.99       980\n",
            "           1       0.99      1.00      0.99      1135\n",
            "           2       0.99      0.97      0.98      1032\n",
            "           3       0.98      0.99      0.98      1010\n",
            "           4       0.99      0.99      0.99       982\n",
            "           5       0.98      0.99      0.99       892\n",
            "           6       0.99      0.98      0.99       958\n",
            "           7       0.98      0.99      0.98      1028\n",
            "           8       0.99      0.98      0.98       974\n",
            "           9       0.99      0.98      0.98      1009\n",
            "\n",
            "    accuracy                           0.99     10000\n",
            "   macro avg       0.99      0.99      0.99     10000\n",
            "weighted avg       0.99      0.99      0.99     10000\n",
            "\n"
          ]
        }
      ]
    },
    {
      "cell_type": "code",
      "source": [
        "# creating confusion matrix\n",
        "cm = confusion_matrix(y_test, y_pred, normalize='true')\n",
        "\n",
        "# plotting normalized confusion matrix\n",
        "plt.figure(figsize=(8, 6))\n",
        "sns.heatmap(cm, cmap='Blues', xticklabels=label_names, yticklabels=label_names)\n",
        "plt.xlabel('Predicted Values')\n",
        "plt.ylabel('True Values')\n",
        "plt.title('Normalized Confusion Matrix')\n",
        "plt.show()"
      ],
      "metadata": {
        "colab": {
          "base_uri": "https://localhost:8080/",
          "height": 564
        },
        "id": "Zi1GSi-NK_4S",
        "outputId": "20a33add-a658-4d61-832b-d6b42d401556"
      },
      "execution_count": null,
      "outputs": [
        {
          "output_type": "display_data",
          "data": {
            "text/plain": [
              "<Figure size 800x600 with 2 Axes>"
            ],
            "image/png": "[encoded data removed]"
          },
          "metadata": {}
        }
      ]
    },
    {
      "cell_type": "markdown",
      "source": [
        "The model's performance is similar to the one before."
      ],
      "metadata": {
        "id": "Z5FVuvKAITfV"
      }
    }
  ]
}